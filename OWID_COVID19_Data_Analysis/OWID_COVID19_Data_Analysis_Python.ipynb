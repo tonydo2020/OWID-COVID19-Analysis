{
 "cells": [
  {
   "cell_type": "code",
   "execution_count": 2,
   "id": "0f0ba49c",
   "metadata": {},
   "outputs": [],
   "source": [
    "import csv\n",
    "import requests\n",
    "import pandas as pd \n",
    "url = \"https://covid.ourworldindata.org/data/owid-covid-data.csv\"\n",
    "\n",
    "df = pd.read_csv(url)"
   ]
  },
  {
   "cell_type": "code",
   "execution_count": 3,
   "id": "62967580",
   "metadata": {},
   "outputs": [],
   "source": [
    "\"\"\"\n",
    "Removes all instances where Continent is NULL. \n",
    "\"\"\"\n",
    "df = df.dropna(subset=['continent'])"
   ]
  },
  {
   "cell_type": "code",
   "execution_count": 4,
   "id": "ade81323",
   "metadata": {},
   "outputs": [],
   "source": [
    "\"\"\"\n",
    "#Groupped Data by Location, Continent, Iso_Code, and Date for reading clarity\n",
    "\"\"\"\n",
    "df = df.groupby(['location','continent', 'iso_code','date'], as_index=False).sum().reset_index()"
   ]
  },
  {
   "cell_type": "code",
   "execution_count": 13,
   "id": "beefeb7e",
   "metadata": {},
   "outputs": [],
   "source": [
    "df = df.drop(columns=['index'])"
   ]
  },
  {
   "cell_type": "code",
   "execution_count": 14,
   "id": "46682ab2",
   "metadata": {},
   "outputs": [],
   "source": [
    "df.to_csv(\"OWID_COVID19_Data_Analysis_Cleaned.csv\")"
   ]
  }
 ],
 "metadata": {
  "kernelspec": {
   "display_name": "Python 3",
   "language": "python",
   "name": "python3"
  },
  "language_info": {
   "codemirror_mode": {
    "name": "ipython",
    "version": 3
   },
   "file_extension": ".py",
   "mimetype": "text/x-python",
   "name": "python",
   "nbconvert_exporter": "python",
   "pygments_lexer": "ipython3",
   "version": "3.8.8"
  }
 },
 "nbformat": 4,
 "nbformat_minor": 5
}
